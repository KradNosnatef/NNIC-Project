{
 "cells": [
  {
   "cell_type": "code",
   "execution_count": 2,
   "metadata": {},
   "outputs": [],
   "source": [
    "from openai import OpenAI\n",
    "import gradio as gr\n",
    "import json\n",
    "\n",
    "config=None\n",
    "with open (\".config.json\",'r') as f:\n",
    "    config=json.load(f)"
   ]
  },
  {
   "cell_type": "code",
   "execution_count": 11,
   "metadata": {},
   "outputs": [
    {
     "name": "stdout",
     "output_type": "stream",
     "text": [
      "Affected Station:\n",
      "- Bugis MRT Station (EW12/DT14)\n",
      "\n",
      "Affected Lines:\n",
      "- East West Line (EWL)\n",
      "- Downtown Line (DTL)\n",
      "\n",
      "Emergency Response Suggestion:\n",
      "1. Evacuate all passengers from Bugis MRT Station (EW12/DT14).\n",
      "2. Divert the trains to skip Bugis Station on both East West Line (EWL) and Downtown Line (DTL).\n",
      "3. Alert nearby stations such as Lavender MRT Station (EW11) and City Hall MRT Station (EW13/NS25) to prepare for increased passenger load.\n",
      "4. Deploy additional buses at affected bus stops, such as Bugis Stn Exit C (01119) and Opp Bugis Stn Exit C (01112), to reroute passengers.\n",
      "\n",
      "Number of affected passengers: 10,000 to 15,000 per day\n",
      "\n",
      "Please turn to Quick Query Tab to query route choice for deployment.\n",
      "\n",
      "Emergency Services Needed: \n",
      "- Fire station\n",
      "- Police station\n"
     ]
    }
   ],
   "source": [
    "text=\"if Bugis MRT Stn is on fire, provide affected station, lines and response suggestion\"\n",
    "\n",
    "client = OpenAI(api_key=config[\"OPENAI_API_KEY\"])\n",
    "completion = client.chat.completions.create(\n",
    "    model=\"gpt-4-turbo\",\n",
    "    messages=[\n",
    "        {\"role\": \"system\", \"content\": \n",
    "        \"\"\"\n",
    "            You are an emergency response advice provider, and your clients are traffic authorities.\\n\n",
    "            User will describe current emergencies to you. In addition to answering users' questions, you will also provide emergency response suggestions.\\n\n",
    "            If your answer contains MRT Station Name, you must also provide its station code.\\n\n",
    "            If your answer contains MRT Line Name, you must also provide its line code.\\n\n",
    "            If your answer contains bus stop name, you must also provide its code.\\n\n",
    "\n",
    "            You will predict the number of passenger that will be effected. use per day to count.\\n\n",
    "            You will predict which types of emergency services the user needs to call in a separate paragraph, which strictly include: hospital, fire station, police station. However,if you think user don't need any of those service, your answer will not include this part.\\n\n",
    "            Your answer should be as concise and professional as possible and should not contain any non-specific advice.\\n\n",
    "            You don't need to explain why for your advice.\\n\n",
    "            No approximate values are allowed in your answer. If you cannot provide an exact number, provide a range bounded by the exact number.\\n\n",
    "        \"\"\"\n",
    "        },\n",
    "        {\"role\": \"user\", \"content\": text}\n",
    "    ]\n",
    ")\n",
    "\n",
    "print(completion.choices[0].message.content)"
   ]
  },
  {
   "cell_type": "code",
   "execution_count": 12,
   "metadata": {},
   "outputs": [],
   "source": [
    "text=completion.choices[0].message.content"
   ]
  },
  {
   "cell_type": "code",
   "execution_count": 14,
   "metadata": {},
   "outputs": [
    {
     "name": "stdout",
     "output_type": "stream",
     "text": [
      "[[\"Fire station\",\"Bugis MRT Station (EW12/DT14)\"],[\"Police station\",\"Bugis MRT Station (EW12/DT14)\"]]\n"
     ]
    }
   ],
   "source": [
    "client = OpenAI(api_key=config[\"OPENAI_API_KEY\"])\n",
    "completion = client.chat.completions.create(\n",
    "    model=\"gpt-4-turbo\",\n",
    "    messages=[\n",
    "        {\"role\": \"system\", \"content\": \n",
    "        \"\"\"\n",
    "            You are a data preparation system. You serve Singapore's transport system\\n\n",
    "            Your input will be a traffic emergency response report.\\n\n",
    "            You will analyze which emergency services are suggested to be deployed to which destinations in this report\\n\n",
    "            If you think there is no emergency service included in this report, you need to strictly return:[[]]\\n\n",
    "            Otherwise, your answer must strictly be in following format:[[\"emergencyServiceName1\",\"destination1\"],[\"emergencyServiceName2\",\"destination2\"],...]\n",
    "        \"\"\"\n",
    "        },\n",
    "        {\"role\": \"user\", \"content\": text}\n",
    "    ]\n",
    ")\n",
    "\n",
    "print(completion.choices[0].message.content)"
   ]
  },
  {
   "cell_type": "code",
   "execution_count": 29,
   "metadata": {},
   "outputs": [
    {
     "name": "stdout",
     "output_type": "stream",
     "text": [
      "[25, 38]\n"
     ]
    }
   ],
   "source": [
    "client = OpenAI(api_key=config[\"OPENAI_API_KEY\"])\n",
    "completion = client.chat.completions.create(\n",
    "    model=\"gpt-4-turbo\",\n",
    "    messages=[\n",
    "        {\"role\": \"system\", \"content\": \n",
    "        \"\"\"\n",
    "            You are a data preparation system. You serve Singapore's transport system\\n\n",
    "            Your input will be a traffic emergency response report.\\n\n",
    "            You already know that in Singapore, a bus can carry about 400 to 700 passengers a day.\\n\n",
    "            If the report mentions the number of passengers affected per day, you need to calculate how many additional buses at least and at most need to be deployed to cover alternative travel.\\n\n",
    "            If you think there is no number of passengers affected included in the report, your will strictly return:[0,0]\\n\n",
    "            Otherwise, your answer will strictly be in following format:[leastNumber,mostNumber]\n",
    "        \"\"\"\n",
    "        },\n",
    "        {\"role\": \"user\", \"content\": text}\n",
    "    ]\n",
    ")\n",
    "\n",
    "print(completion.choices[0].message.content)"
   ]
  },
  {
   "cell_type": "code",
   "execution_count": 9,
   "metadata": {},
   "outputs": [],
   "source": [
    "text=\"\"\"\n",
    "Affected Stations:\\n\n",
    "City Hall MRT Station (NS25/EW13): 13,200 passengers/hour\\n\n",
    "Raffles Place MRT Station (NS26/EW14): 12,000 passengers/hour\\n\n",
    "Clarke Quay MRT Station (NE5): 8,000 passengers/hour\\n\n",
    "Esplanade MRT Station (CC3): 7,000 passengers/hour\\n\n",
    "Deployment of Emergency Services:\\n\n",
    "Fire station to City Hall MRT Station (NS25/EW13)\"\"\"\n",
    "\n",
    "client = OpenAI(api_key=config[\"OPENAI_API_KEY\"])\n",
    "completion = client.chat.completions.create(\n",
    "    model=\"gpt-4-turbo\",\n",
    "    messages=[\n",
    "        {\"role\": \"system\", \"content\": \n",
    "        \"\"\"\n",
    "            You are a data analyst serving for Singaporean transport system. You calculate and summarize data\\n\n",
    "            The input is a emergency response report including several hourly numbers of passenger affected in several train stations and/or bus stops respectively.\\n\n",
    "            You will devide those numbers by 102, then match each devided number with corresponding station or stop name.\\n\n",
    "            You will list those devided numbers in following format: 1. name1 need devidedNumber1 extra bus trips per hour\\n\n",
    "            You may not show calculations.\n",
    "        \"\"\"\n",
    "        },\n",
    "        {\"role\": \"user\", \"content\": text}\n",
    "    ]\n",
    ")"
   ]
  },
  {
   "cell_type": "code",
   "execution_count": 10,
   "metadata": {},
   "outputs": [
    {
     "name": "stdout",
     "output_type": "stream",
     "text": [
      "1. City Hall MRT Station (NS25/EW13) needs 129 extra bus trips per hour\n",
      "2. Raffles Place MRT Station (NS26/EW14) needs 118 extra bus trips per hour\n",
      "3. Clarke Quay MRT Station (NE5) needs 78 extra bus trips per hour\n",
      "4. Esplanade MRT Station (CC3) needs 69 extra bus trips per hour\n"
     ]
    }
   ],
   "source": [
    "print(completion.choices[0].message.content)"
   ]
  }
 ],
 "metadata": {
  "kernelspec": {
   "display_name": "Python 3",
   "language": "python",
   "name": "python3"
  },
  "language_info": {
   "codemirror_mode": {
    "name": "ipython",
    "version": 3
   },
   "file_extension": ".py",
   "mimetype": "text/x-python",
   "name": "python",
   "nbconvert_exporter": "python",
   "pygments_lexer": "ipython3",
   "version": "3.10.12"
  }
 },
 "nbformat": 4,
 "nbformat_minor": 2
}
