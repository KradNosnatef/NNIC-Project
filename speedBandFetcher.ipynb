{
 "cells": [
  {
   "cell_type": "code",
   "execution_count": 1,
   "metadata": {},
   "outputs": [],
   "source": [
    "import requests\n",
    "import json"
   ]
  },
  {
   "cell_type": "code",
   "execution_count": 2,
   "metadata": {},
   "outputs": [],
   "source": [
    "with open (\"config.json\",'r') as f:\n",
    "    config=json.load(f)\n",
    "\n",
    "AccountKey=config['LTA_ACCOUNT_KEY']"
   ]
  },
  {
   "cell_type": "code",
   "execution_count": 6,
   "metadata": {},
   "outputs": [],
   "source": [
    "speedBand={}\n",
    "speedBand['value']=[]\n",
    "headers={'AccountKey':AccountKey}\n",
    "skip=0\n",
    "\n",
    "while True:\n",
    "    params={'$skip':str(skip)}\n",
    "    response=requests.get(\"http://datamall2.mytransport.sg/ltaodataservice/v3/TrafficSpeedBands\",params=params,headers=headers)\n",
    "\n",
    "    value=json.loads(response.text)['value']\n",
    "    speedBand['value']=speedBand['value']+value\n",
    "\n",
    "    if(len(value)<500):break\n",
    "\n",
    "    skip=skip+500\n",
    "\n"
   ]
  },
  {
   "cell_type": "code",
   "execution_count": 9,
   "metadata": {},
   "outputs": [
    {
     "data": {
      "text/plain": [
       "59006"
      ]
     },
     "execution_count": 9,
     "metadata": {},
     "output_type": "execute_result"
    }
   ],
   "source": [
    "len(speedBand['value'])"
   ]
  },
  {
   "cell_type": "code",
   "execution_count": 10,
   "metadata": {},
   "outputs": [],
   "source": [
    "with open (\"speedBand.json\",'w') as f:\n",
    "    json.dump(speedBand,f)"
   ]
  }
 ],
 "metadata": {
  "kernelspec": {
   "display_name": "Python 3",
   "language": "python",
   "name": "python3"
  },
  "language_info": {
   "codemirror_mode": {
    "name": "ipython",
    "version": 3
   },
   "file_extension": ".py",
   "mimetype": "text/x-python",
   "name": "python",
   "nbconvert_exporter": "python",
   "pygments_lexer": "ipython3",
   "version": "3.10.12"
  }
 },
 "nbformat": 4,
 "nbformat_minor": 2
}
