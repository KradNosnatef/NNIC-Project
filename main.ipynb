{
 "cells": [
  {
   "cell_type": "code",
   "execution_count": 1,
   "metadata": {},
   "outputs": [
    {
     "name": "stderr",
     "output_type": "stream",
     "text": [
      "/Users/emmy/Desktop/Last_term_SMU/NUS_SMU/my_venv/lib/python3.10/site-packages/tqdm/auto.py:21: TqdmWarning: IProgress not found. Please update jupyter and ipywidgets. See https://ipywidgets.readthedocs.io/en/stable/user_install.html\n",
      "  from .autonotebook import tqdm as notebook_tqdm\n"
     ]
    },
    {
     "name": "stdout",
     "output_type": "stream",
     "text": [
      "Running on local URL:  http://0.0.0.0:7920\n",
      "\n",
      "To create a public link, set `share=True` in `launch()`.\n"
     ]
    },
    {
     "data": {
      "text/html": [
       "<div><iframe src=\"http://localhost:7920/\" width=\"100%\" height=\"500\" allow=\"autoplay; camera; microphone; clipboard-read; clipboard-write;\" frameborder=\"0\" allowfullscreen></iframe></div>"
      ],
      "text/plain": [
       "<IPython.core.display.HTML object>"
      ]
     },
     "metadata": {},
     "output_type": "display_data"
    },
    {
     "data": {
      "text/plain": []
     },
     "execution_count": 1,
     "metadata": {},
     "output_type": "execute_result"
    },
    {
     "name": "stdout",
     "output_type": "stream",
     "text": [
      "[\"Chinatown+MRT+Station,+Singapore\",\"Woodlands+MRT+Station,+Singapore\"]\n"
     ]
    },
    {
     "name": "stderr",
     "output_type": "stream",
     "text": [
      "Traceback (most recent call last):\n",
      "  File \"/Users/emmy/Desktop/Last_term_SMU/NUS_SMU/my_venv/lib/python3.10/site-packages/gradio/queueing.py\", line 527, in process_events\n",
      "    response = await route_utils.call_process_api(\n",
      "  File \"/Users/emmy/Desktop/Last_term_SMU/NUS_SMU/my_venv/lib/python3.10/site-packages/gradio/route_utils.py\", line 261, in call_process_api\n",
      "    output = await app.get_blocks().process_api(\n",
      "  File \"/Users/emmy/Desktop/Last_term_SMU/NUS_SMU/my_venv/lib/python3.10/site-packages/gradio/blocks.py\", line 1786, in process_api\n",
      "    result = await self.call_function(\n",
      "  File \"/Users/emmy/Desktop/Last_term_SMU/NUS_SMU/my_venv/lib/python3.10/site-packages/gradio/blocks.py\", line 1338, in call_function\n",
      "    prediction = await anyio.to_thread.run_sync(\n",
      "  File \"/Users/emmy/Desktop/Last_term_SMU/NUS_SMU/my_venv/lib/python3.10/site-packages/anyio/to_thread.py\", line 56, in run_sync\n",
      "    return await get_async_backend().run_sync_in_worker_thread(\n",
      "  File \"/Users/emmy/Desktop/Last_term_SMU/NUS_SMU/my_venv/lib/python3.10/site-packages/anyio/_backends/_asyncio.py\", line 2144, in run_sync_in_worker_thread\n",
      "    return await future\n",
      "  File \"/Users/emmy/Desktop/Last_term_SMU/NUS_SMU/my_venv/lib/python3.10/site-packages/anyio/_backends/_asyncio.py\", line 851, in run\n",
      "    result = context.run(func, *args)\n",
      "  File \"/Users/emmy/Desktop/Last_term_SMU/NUS_SMU/my_venv/lib/python3.10/site-packages/gradio/utils.py\", line 759, in wrapper\n",
      "    response = f(*args, **kwargs)\n",
      "  File \"/var/folders/kz/8_w0j87d1350zx_gm7nwg9f80000gn/T/ipykernel_45674/2541927452.py\", line 26, in submitText\n",
      "    returns[1]=returns[1].replace(\" \",\"+\")\n",
      "IndexError: list index out of range\n"
     ]
    },
    {
     "name": "stdout",
     "output_type": "stream",
     "text": [
      "[\"Punggol+MRT+Station,+Singapore\",\"National+Stadium,+Singapore\"]\n",
      "[\"Jurong+East+MRT+Station,+Singapore\",\"Changi+Airport,+Singapore\"]\n",
      "[\"Policlinic+Tuas,+Singapore\",\"Changi+Airport,+Singapore\"]\n",
      "[\"Woodlands+MRT+Station,+Singapore\",\"East+Coast+Park,+Singapore\"]\n"
     ]
    }
   ],
   "source": [
    "from openai import OpenAI\n",
    "import gradio as gr\n",
    "\n",
    "def submitText(text):\n",
    "    client = OpenAI()\n",
    "    completion = client.chat.completions.create(\n",
    "        model=\"gpt-4-turbo\",\n",
    "        messages=[\n",
    "            {\"role\": \"system\", \"content\": \n",
    "            \"\"\"\n",
    "                You are a Singaporean Navigation Assistant.\\n\n",
    "                The user will ask you to search for a route from the nearest designated type of public service location to a specified location.\\n\n",
    "                You must search the public service location that matches user's query, then show a route from that public service location to the specified location.\\n\n",
    "                You will provide a route by providing start point name and end point name.\\n\n",
    "                Your response must strictly be in following format:[StartPointName#EndPointName]\\n\n",
    "            \"\"\"\n",
    "            },\n",
    "            {\"role\": \"user\", \"content\": text}\n",
    "        ]\n",
    "    )\n",
    "\n",
    "    returnText=str(completion.choices[0].message.content)[1:-1]\n",
    "    returns=returnText.split(\"#\")\n",
    "\n",
    "    returns[0]=returns[0].replace(\" \",\"+\")\n",
    "    returns[1]=returns[1].replace(\" \",\"+\")\n",
    "\n",
    "    returns[0]=\"[\\\"\"+returns[0]+\",+Singapore\\\",\"\n",
    "    returns[1]=\"\\\"\"+returns[1]+\",+Singapore\\\"]\"\n",
    "    returnText=returns[0]+returns[1]\n",
    "    print(returnText)\n",
    "    return(gr.HTML(\"<iframe src=http://fuqianshan.asuscomm.com:5173?body=\"+returnText+\" width=100%% height=1520px></iframe>\"))\n",
    "\n",
    "with gr.Blocks(title=\"BooleanPirates\") as demo:\n",
    "    with gr.Group():\n",
    "        text=gr.Textbox(show_label=False)\n",
    "        htmlBox=gr.HTML(\"<iframe src=http://fuqianshan.asuscomm.com:5173?body=[\\\"Fire+Station+Bukit+Merah,+Singapore\\\",\\\"SMU,+Singapore\\\"] width=100%% height=1520px></iframe>\")\n",
    "\n",
    "        text.submit(submitText,text,htmlBox)\n",
    "\n",
    "demo.launch(server_name=\"0.0.0.0\",server_port=7920)\n",
    "\n",
    "input()"
   ]
  },
  {
   "cell_type": "markdown",
   "metadata": {},
   "source": []
  },
  {
   "cell_type": "code",
   "execution_count": null,
   "metadata": {},
   "outputs": [],
   "source": [
    "#test"
   ]
  }
 ],
 "metadata": {
  "kernelspec": {
   "display_name": "Python 3",
   "language": "python",
   "name": "python3"
  },
  "language_info": {
   "codemirror_mode": {
    "name": "ipython",
    "version": 3
   },
   "file_extension": ".py",
   "mimetype": "text/x-python",
   "name": "python",
   "nbconvert_exporter": "python",
   "pygments_lexer": "ipython3",
   "version": "3.10.13"
  }
 },
 "nbformat": 4,
 "nbformat_minor": 2
}
