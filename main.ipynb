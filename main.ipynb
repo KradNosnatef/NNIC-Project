{
 "cells": [
  {
   "cell_type": "code",
   "execution_count": 1,
   "metadata": {},
   "outputs": [
    {
     "name": "stderr",
     "output_type": "stream",
     "text": [
      "/home/fustcianshan/.local/lib/python3.10/site-packages/tqdm/auto.py:21: TqdmWarning: IProgress not found. Please update jupyter and ipywidgets. See https://ipywidgets.readthedocs.io/en/stable/user_install.html\n",
      "  from .autonotebook import tqdm as notebook_tqdm\n"
     ]
    },
    {
     "name": "stdout",
     "output_type": "stream",
     "text": [
      "Running on local URL:  http://0.0.0.0:7915\n",
      "\n",
      "To create a public link, set `share=True` in `launch()`.\n"
     ]
    },
    {
     "data": {
      "text/html": [
       "<div><iframe src=\"http://localhost:7915/\" width=\"100%\" height=\"500\" allow=\"autoplay; camera; microphone; clipboard-read; clipboard-write;\" frameborder=\"0\" allowfullscreen></iframe></div>"
      ],
      "text/plain": [
       "<IPython.core.display.HTML object>"
      ]
     },
     "metadata": {},
     "output_type": "display_data"
    },
    {
     "data": {
      "text/plain": []
     },
     "execution_count": 1,
     "metadata": {},
     "output_type": "execute_result"
    }
   ],
   "source": [
    "from openai import OpenAI\n",
    "import gradio as gr\n",
    "import json\n",
    "\n",
    "config=None\n",
    "with open (\".config.json\",'r') as f:\n",
    "    config=json.load(f)\n",
    "\n",
    "def changeQuickQueryToFrom(choice):\n",
    "    if choice==\"FROM\":\n",
    "        return(\n",
    "                gr.Dropdown(choices=[\"FROM\",\"TO\"],value=\"TO\",interactive=False,show_label=False,scale=1,min_width=30,filterable=False)\n",
    "            )\n",
    "    \n",
    "    return(\n",
    "        gr.Dropdown(choices=[\"FROM\",\"TO\"],value=\"FROM\",interactive=False,show_label=False,scale=1,min_width=30,filterable=False)\n",
    "    )\n",
    "\n",
    "\n",
    "def focusFreeQueryTextbox(text):\n",
    "    if text==None or text==\"\":\n",
    "        return(gr.Textbox(value=\"Show me a route from \",show_label=False,placeholder=\"Enter to submit.Please ask for a route\"))\n",
    "    return(gr.Textbox(value=text,show_label=False,placeholder=\"Enter to submit.Please ask for a route\"))\n",
    "def defocusFreeQueryTextbox(text):\n",
    "    if text==\"Show me a route from \":\n",
    "        return(gr.Textbox(value=None,show_label=False,placeholder=\"Enter to submit.Please ask for a route\"))\n",
    "    return(gr.Textbox(value=text,show_label=False,placeholder=\"Enter to submit.Please ask for a route\"))\n",
    "\n",
    "def submitFreeQueryTextbox(text):\n",
    "    client = OpenAI(api_key=config[\"OPENAI_API_KEY\"])\n",
    "    completion = client.chat.completions.create(\n",
    "        model=\"gpt-4-turbo\",\n",
    "        messages=[\n",
    "            {\"role\": \"system\", \"content\": \n",
    "            \"\"\"\n",
    "                You are a Singaporean Navigation Assistant.\\n\n",
    "                The user will ask you to search for a route from the nearest designated type of public service location to a specified location.\\n\n",
    "                You must search the public service location that matches user's query, then show a route from that public service location to the specified location.\\n\n",
    "                You will provide a route by providing start point name and end point name.\\n\n",
    "                Your response must strictly be in following format:[StartPointName#EndPointName]\\n\n",
    "            \"\"\"\n",
    "            },\n",
    "            {\"role\": \"user\", \"content\": text}\n",
    "        ]\n",
    "    )\n",
    "    returnText=str(completion.choices[0].message.content)[1:-1]\n",
    "    returns=returnText.split(\"#\")\n",
    "\n",
    "    returns[0]=returns[0].replace(\" \",\"+\")\n",
    "    returns[1]=returns[1].replace(\" \",\"+\")\n",
    "\n",
    "    returns[0]=\"[\\\"\"+returns[0]+\",+Singapore\\\",\"\n",
    "    returns[1]=\"\\\"\"+returns[1]+\",+Singapore\\\"]\"\n",
    "    returnText=returns[0]+returns[1]\n",
    "\n",
    "    return(gr.HTML(\"<iframe src=http://fuqianshan.asuscomm.com:5173?body=\"+returnText+\" width=100%% height=520px></iframe>\"))\n",
    "\n",
    "def submitQuickQueryTextbox(quickQueryToFrom,quickQueryDorpDown,quickQueryFromTo,quickQueryTextbox):\n",
    "    text=\"Show me a route \"+quickQueryToFrom+\" the \"+quickQueryDorpDown+\" \"+quickQueryFromTo+\" \"+quickQueryTextbox\n",
    "    return(submitFreeQueryTextbox(text))\n",
    "\n",
    "with gr.Blocks(title=\"BooleanPirates\") as demo:\n",
    "    with gr.Group():\n",
    "        with gr.Tab(\"Quick Query\"):\n",
    "            with gr.Row():\n",
    "                with gr.Row():\n",
    "                    quickQueryToFrom=gr.Dropdown(choices=[\"TO\",\"FROM\"],value=\"TO\",interactive=True,show_label=False,scale=1,min_width=60,filterable=False)\n",
    "                    quickQueryDorpDown=gr.Dropdown(choices=[\n",
    "                        \"nearby Hospital\",\n",
    "                        \"nearby Fire station\",\n",
    "                        \"nearby Police station\",\n",
    "                        \"nearest Bus interchange\"\n",
    "                    ],value=\"nearby Hospital\",interactive=True,show_label=False,scale=2,min_width=100,filterable=False)\n",
    "                with gr.Row():\n",
    "                    quickQueryFromTo=gr.Dropdown(choices=[\"FROM\",\"TO\"],value=\"FROM\",interactive=False,show_label=False,scale=1,min_width=60,filterable=False)\n",
    "                    quickQueryTextbox=gr.Textbox(show_label=False,scale=2,min_width=100,placeholder=\"Type here&Enter\")\n",
    "        with gr.Tab(\"Free Query\"):\n",
    "            with gr.Row():\n",
    "                freeQueryTextbox=gr.Textbox(show_label=False,placeholder=\"Enter to submit.Please ask for a route\")\n",
    "\n",
    "        googleMapHtmlBox=gr.HTML(\"<iframe src=http://fuqianshan.asuscomm.com:5173?body=[\\\"Fire+Station+Bukit+Merah,+Singapore\\\",\\\"SMU,+Singapore\\\"] width=100%% height=520px></iframe>\")\n",
    "\n",
    "        quickQueryToFrom.change(changeQuickQueryToFrom,quickQueryToFrom,quickQueryFromTo)\n",
    "        quickQueryTextbox.submit(submitQuickQueryTextbox,[quickQueryToFrom,quickQueryDorpDown,quickQueryFromTo,quickQueryTextbox],googleMapHtmlBox)\n",
    "\n",
    "        freeQueryTextbox.submit(submitFreeQueryTextbox,freeQueryTextbox,googleMapHtmlBox)\n",
    "        freeQueryTextbox.focus(focusFreeQueryTextbox,freeQueryTextbox,freeQueryTextbox)\n",
    "        freeQueryTextbox.blur(defocusFreeQueryTextbox,freeQueryTextbox,freeQueryTextbox)\n",
    "\n",
    "demo.launch(server_name=\"0.0.0.0\",server_port=7915)\n",
    "\n",
    "#input()"
   ]
  },
  {
   "cell_type": "markdown",
   "metadata": {},
   "source": []
  },
  {
   "cell_type": "code",
   "execution_count": null,
   "metadata": {},
   "outputs": [],
   "source": [
    "#test"
   ]
  }
 ],
 "metadata": {
  "kernelspec": {
   "display_name": "Python 3",
   "language": "python",
   "name": "python3"
  },
  "language_info": {
   "codemirror_mode": {
    "name": "ipython",
    "version": 3
   },
   "file_extension": ".py",
   "mimetype": "text/x-python",
   "name": "python",
   "nbconvert_exporter": "python",
   "pygments_lexer": "ipython3",
   "version": "3.10.12"
  }
 },
 "nbformat": 4,
 "nbformat_minor": 2
}
