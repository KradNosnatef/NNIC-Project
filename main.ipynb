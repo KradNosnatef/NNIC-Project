{
 "cells": [
  {
   "cell_type": "code",
   "execution_count": 1,
   "metadata": {},
   "outputs": [
    {
     "name": "stderr",
     "output_type": "stream",
     "text": [
      "/Users/emmy/Desktop/Last_term_SMU/NUS_SMU/my_venv/lib/python3.10/site-packages/tqdm/auto.py:21: TqdmWarning: IProgress not found. Please update jupyter and ipywidgets. See https://ipywidgets.readthedocs.io/en/stable/user_install.html\n",
      "  from .autonotebook import tqdm as notebook_tqdm\n"
     ]
    },
    {
     "name": "stdout",
     "output_type": "stream",
     "text": [
      "[Tampines Fire Station#Changi Airport]\n"
     ]
    }
   ],
   "source": [
    "from openai import OpenAI\n",
    "import gradio as gr\n",
    "\n",
    "client = OpenAI()\n",
    "completion = client.chat.completions.create(\n",
    "    model=\"gpt-4-turbo\",\n",
    "    messages=[\n",
    "        {\"role\": \"system\", \"content\": \n",
    "        \"\"\"\n",
    "            You are a Singaporean Navigation Assistant.\\n\n",
    "            The user will ask you to search for a route from the nearest designated type of public service location to a specified location.\\n\n",
    "            You must search the public service location that matches user's query, then show a route from that public service location to the specified location.\\n\n",
    "            You will provide a route by providing start point name and end point name.\\n\n",
    "            Your response must strictly be in following format:[StartPointName#EndPointName]\\n\n",
    "        \"\"\"\n",
    "        },\n",
    "        {\"role\": \"user\", \"content\": \"show me the route from the nearest fire station to changi airport\"}\n",
    "    ]\n",
    ")\n",
    "\n",
    "\n",
    "print(completion.choices[0].message.content)"
   ]
  },
  {
   "cell_type": "code",
   "execution_count": 1,
   "metadata": {},
   "outputs": [
    {
     "name": "stderr",
     "output_type": "stream",
     "text": [
      "/Users/emmy/Desktop/Last_term_SMU/NUS_SMU/my_venv/lib/python3.10/site-packages/tqdm/auto.py:21: TqdmWarning: IProgress not found. Please update jupyter and ipywidgets. See https://ipywidgets.readthedocs.io/en/stable/user_install.html\n",
      "  from .autonotebook import tqdm as notebook_tqdm\n"
     ]
    },
    {
     "name": "stdout",
     "output_type": "stream",
     "text": [
      "Running on local URL:  http://0.0.0.0:7920\n",
      "\n",
      "To create a public link, set `share=True` in `launch()`.\n"
     ]
    },
    {
     "data": {
      "text/html": [
       "<div><iframe src=\"http://localhost:7920/\" width=\"100%\" height=\"500\" allow=\"autoplay; camera; microphone; clipboard-read; clipboard-write;\" frameborder=\"0\" allowfullscreen></iframe></div>"
      ],
      "text/plain": [
       "<IPython.core.display.HTML object>"
      ]
     },
     "metadata": {},
     "output_type": "display_data"
    },
    {
     "data": {
      "text/plain": []
     },
     "execution_count": 1,
     "metadata": {},
     "output_type": "execute_result"
    },
    {
     "name": "stdout",
     "output_type": "stream",
     "text": [
      "[\"East+Coast+Park,+Singapore\",\"Nanyang+Technological+University,+Singapore\"]\n"
     ]
    }
   ],
   "source": [
    "from openai import OpenAI\n",
    "import gradio as gr\n",
    "\n",
    "def submitText(text):\n",
    "    client = OpenAI()\n",
    "    completion = client.chat.completions.create(\n",
    "        model=\"gpt-4-turbo\",\n",
    "        messages=[\n",
    "            {\"role\": \"system\", \"content\": \n",
    "            \"\"\"\n",
    "                You are a Singaporean Navigation Assistant.\\n\n",
    "                The user will ask you to search for a route from the nearest designated type of public service location to a specified location.\\n\n",
    "                You must search the public service location that matches user's query, then show a route from that public service location to the specified location.\\n\n",
    "                You will provide a route by providing start point name and end point name.\\n\n",
    "                Your response must strictly be in following format:[StartPointName#EndPointName]\\n\n",
    "            \"\"\"\n",
    "            },\n",
    "            {\"role\": \"user\", \"content\": text}\n",
    "        ]\n",
    "    )\n",
    "\n",
    "    returnText=str(completion.choices[0].message.content)[1:-1]\n",
    "    returns=returnText.split(\"#\")\n",
    "\n",
    "    returns[0]=returns[0].replace(\" \",\"+\")\n",
    "    returns[1]=returns[1].replace(\" \",\"+\")\n",
    "\n",
    "    returns[0]=\"[\\\"\"+returns[0]+\",+Singapore\\\",\"\n",
    "    returns[1]=\"\\\"\"+returns[1]+\",+Singapore\\\"]\"\n",
    "    returnText=returns[0]+returns[1]\n",
    "    print(returnText)\n",
    "    return(gr.HTML(\"<iframe src=http://127.0.0.1:5173?body=\"+returnText+\" width=100%% height=520px></iframe>\"))\n",
    "\n",
    "with gr.Blocks(title=\"BooleanPirates\") as demo:\n",
    "    with gr.Group():\n",
    "        text=gr.Textbox(show_label=False)\n",
    "        htmlBox=gr.HTML(\"<iframe src=http://127.0.0.1:5173?body=[\\\"Fire+Station+Bukit+Merah,+Singapore\\\",\\\"SMU,+Singapore\\\"] width=100%% height=520px></iframe>\")\n",
    "\n",
    "        text.submit(submitText,text,htmlBox)\n",
    "\n",
    "demo.launch(server_name=\"0.0.0.0\",server_port=7920)"
   ]
  },
  {
   "cell_type": "markdown",
   "metadata": {},
   "source": []
  },
  {
   "cell_type": "code",
   "execution_count": null,
   "metadata": {},
   "outputs": [],
   "source": []
  }
 ],
 "metadata": {
  "kernelspec": {
   "display_name": "Python 3",
   "language": "python",
   "name": "python3"
  },
  "language_info": {
   "codemirror_mode": {
    "name": "ipython",
    "version": 3
   },
   "file_extension": ".py",
   "mimetype": "text/x-python",
   "name": "python",
   "nbconvert_exporter": "python",
   "pygments_lexer": "ipython3",
   "version": "3.10.13"
  }
 },
 "nbformat": 4,
 "nbformat_minor": 2
}
