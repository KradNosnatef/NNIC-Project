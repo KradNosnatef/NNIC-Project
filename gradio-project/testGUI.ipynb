{
 "cells": [
  {
   "cell_type": "code",
   "execution_count": 2,
   "metadata": {},
   "outputs": [],
   "source": [
    "import gradio as gr"
   ]
  },
  {
   "cell_type": "code",
   "execution_count": 3,
   "metadata": {},
   "outputs": [],
   "source": [
    "def create_conversation(query:str,chat_history:list)->tuple:\n",
    "  chat_history.append((query,''))\n",
    "  return '',chat_history"
   ]
  },
  {
   "cell_type": "code",
   "execution_count": 7,
   "metadata": {},
   "outputs": [
    {
     "name": "stdout",
     "output_type": "stream",
     "text": [
      "Closing server running on port: 7860\n",
      "Running on local URL:  http://127.0.0.1:7860\n",
      "\n",
      "To create a public link, set `share=True` in `launch()`.\n"
     ]
    },
    {
     "data": {
      "text/html": [
       "<div><iframe src=\"http://127.0.0.1:7860/\" width=\"100%\" height=\"500\" allow=\"autoplay; camera; microphone; clipboard-read; clipboard-write;\" frameborder=\"0\" allowfullscreen></iframe></div>"
      ],
      "text/plain": [
       "<IPython.core.display.HTML object>"
      ]
     },
     "metadata": {},
     "output_type": "display_data"
    },
    {
     "data": {
      "text/plain": []
     },
     "execution_count": 7,
     "metadata": {},
     "output_type": "execute_result"
    }
   ],
   "source": [
    "try:\n",
    "    demo.close()\n",
    "except:\n",
    "    pass\n",
    "\n",
    "with gr.Blocks() as demo:\n",
    "    with gr.Tab(\"ChatBot\"):\n",
    "        with gr.Row():\n",
    "            with gr.Column():\n",
    "                chatbot=gr.Chatbot(label='Chatbot')\n",
    "                msg=gr.Textbox()\n",
    "                clear=gr.ClearButton([msg,chatbot])\n",
    "                msg.submit(create_conversation,[msg,chatbot],[msg,chatbot])\n",
    "            with gr.Column():\n",
    "                barPlot=gr.BarPlot()\n",
    "                linePlot=gr.LinePlot()\n",
    "    with gr.Tab(\"Map&Table\"):\n",
    "        with gr.Row():\n",
    "            dataframe=gr.DataFrame()\n",
    "            \n",
    "demo.launch()"
   ]
  }
 ],
 "metadata": {
  "kernelspec": {
   "display_name": "Python 3",
   "language": "python",
   "name": "python3"
  },
  "language_info": {
   "codemirror_mode": {
    "name": "ipython",
    "version": 3
   },
   "file_extension": ".py",
   "mimetype": "text/x-python",
   "name": "python",
   "nbconvert_exporter": "python",
   "pygments_lexer": "ipython3",
   "version": "3.12.2"
  }
 },
 "nbformat": 4,
 "nbformat_minor": 2
}
